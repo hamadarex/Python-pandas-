{
 "cells": [
  {
   "cell_type": "code",
   "execution_count": 1,
   "id": "2bd1b656-3b4c-455f-bb04-23c710acbec7",
   "metadata": {},
   "outputs": [
    {
     "name": "stdout",
     "output_type": "stream",
     "text": [
      "Full Table:\n",
      "     name  age  AI Exam score\n",
      "0     Ali   25             88\n",
      "1  Zeynep   30             92\n",
      "2  Mehmet   22             79\n",
      "3    Ayşe   28             85\n",
      "4   Kerim   15             45\n",
      "Average AI Exam score: 77.8\n",
      "People with AI Exam score > 85:\n",
      "     name  age  AI Exam score\n",
      "0     Ali   25             88\n",
      "1  Zeynep   30             92\n"
     ]
    }
   ],
   "source": [
    "import pandas as pd\n",
    "\n",
    "data = {  \n",
    "    \"name\": [\"Ali\", \"Zeynep\", \"Mehmet\", \"Ayşe\", \"Kerim\"],  \n",
    "    \"age\": [25, 30, 22, 28, 15],  \n",
    "    \"AI Exam score\": [88, 92, 79, 85, 45]  \n",
    "}\n",
    "\n",
    "df = pd.DataFrame(data)  \n",
    "print(\"Full Table:\")  \n",
    "print(df)  \n",
    "\n",
    "print(\"Average AI Exam score:\", df[\"AI Exam score\"].mean())  \n",
    "print(\"People with AI Exam score > 85:\")  \n",
    "print(df[df[\"AI Exam score\"] > 85])  # ✅ Fixed column name and removed extra bracket"
   ]
  },
  {
   "cell_type": "code",
   "execution_count": null,
   "id": "b5a31b72-50fd-45a4-a922-2f43f808016d",
   "metadata": {},
   "outputs": [],
   "source": []
  }
 ],
 "metadata": {
  "kernelspec": {
   "display_name": "Python 3 (ipykernel)",
   "language": "python",
   "name": "python3"
  },
  "language_info": {
   "codemirror_mode": {
    "name": "ipython",
    "version": 3
   },
   "file_extension": ".py",
   "mimetype": "text/x-python",
   "name": "python",
   "nbconvert_exporter": "python",
   "pygments_lexer": "ipython3",
   "version": "3.13.3"
  }
 },
 "nbformat": 4,
 "nbformat_minor": 5
}
