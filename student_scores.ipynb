{
 "cells": [
  {
   "cell_type": "code",
   "execution_count": 1,
   "id": "3ee3adc0-423c-4b8e-92d2-fbf7c38c9eef",
   "metadata": {},
   "outputs": [
    {
     "name": "stdout",
     "output_type": "stream",
     "text": [
      "     name  age  AI Exam score\n",
      "0     Ali   25             88\n",
      "1  Zeynep   30             92\n",
      "2  Mehmet   22             79\n",
      "3    Ayşe   28             85\n",
      "4   Kerim   15             45\n",
      "Average AI Exam score: 77.8\n"
     ]
    }
   ],
   "source": [
    "import pandas as pd\n",
    "\n",
    "data = {  \n",
    "    \"name\": [\"Ali\", \"Zeynep\", \"Mehmet\", \"Ayşe\", \"Kerim\"],  \n",
    "    \"age\": [25, 30, 22, 28, 15],  \n",
    "    \"AI Exam score\": [88, 92, 79, 85, 45]  \n",
    "}\n",
    "\n",
    "df = pd.DataFrame(data)  \n",
    "print(df)  \n",
    "\n",
    "print(\"Average AI Exam score:\", df[\"AI Exam score\"].mean())"
   ]
  }
 ],
 "metadata": {
  "kernelspec": {
   "display_name": "Python 3",
   "language": "python",
   "name": "python3"
  },
  "language_info": {
   "codemirror_mode": {
    "name": "ipython",
    "version": 3
   },
   "file_extension": ".py",
   "mimetype": "text/x-python",
   "name": "python",
   "nbconvert_exporter": "python",
   "pygments_lexer": "ipython3",
   "version": "3.13.3"
  }
 },
 "nbformat": 4,
 "nbformat_minor": 5
}
